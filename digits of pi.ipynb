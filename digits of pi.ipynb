{
 "cells": [
  {
   "cell_type": "code",
   "execution_count": 1,
   "id": "bfeba61e-3eed-44d4-bf8f-ee8f0f3a5236",
   "metadata": {},
   "outputs": [],
   "source": [
    "import math"
   ]
  },
  {
   "cell_type": "code",
   "execution_count": 28,
   "id": "efe62e50-2e34-4441-bce1-aca6ab3301f0",
   "metadata": {},
   "outputs": [],
   "source": [
    "def digitofpi(digit):\n",
    "    if digit > 15 or digit < 1:\n",
    "        print(\"choose between 1 and 15(both inclusive)\")\n",
    "    else:\n",
    "        pi = str(math.pi)\n",
    "        pi = pi.replace(\".\",\"\")\n",
    "        print(pi[digit+0])h\n",
    "    \n",
    "    "
   ]
  },
  {
   "cell_type": "code",
   "execution_count": 31,
   "id": "d95bd685-59d8-40b1-aa7e-68e1454f3031",
   "metadata": {},
   "outputs": [
    {
     "name": "stdout",
     "output_type": "stream",
     "text": [
      "choose between 1 and 15(both inclusive)\n"
     ]
    }
   ],
   "source": [
    "digitofpi(0)"
   ]
  }
 ],
 "metadata": {
  "kernelspec": {
   "display_name": "Python [conda env:base] *",
   "language": "python",
   "name": "conda-base-py"
  },
  "language_info": {
   "codemirror_mode": {
    "name": "ipython",
    "version": 3
   },
   "file_extension": ".py",
   "mimetype": "text/x-python",
   "name": "python",
   "nbconvert_exporter": "python",
   "pygments_lexer": "ipython3",
   "version": "3.12.7"
  }
 },
 "nbformat": 4,
 "nbformat_minor": 5
}
