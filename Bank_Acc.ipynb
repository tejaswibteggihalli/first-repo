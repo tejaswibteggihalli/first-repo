{
 "cells": [
  {
   "cell_type": "code",
   "execution_count": 7,
   "id": "26d633da-2e16-43ff-bae8-b9e98e00921a",
   "metadata": {},
   "outputs": [],
   "source": [
    "class Bank_Acc():\n",
    "    def __init__(self,name,init_bal):\n",
    "        self.name = name\n",
    "        self.value = init_bal\n",
    "    \n",
    "\n",
    "    def add_money(self,amount,name):\n",
    "        self.value = self.value + amount\n",
    "        print(f\"We have deposited {amount} bucks to {self.name}'s account\")\n",
    "\n",
    "    def remove_money(self,amount):\n",
    "        if self.value - amount < 0:\n",
    "            print(\"Not enough money!\")\n",
    "        else:\n",
    "            self.value = self.value - amount\n",
    "            print(f\"We have withdrawn {amount} bucks from {self.name}'s account\")\n",
    "        "
   ]
  },
  {
   "cell_type": "code",
   "execution_count": 8,
   "id": "e54feb55-726a-44d7-96de-df65d6a4cd52",
   "metadata": {},
   "outputs": [],
   "source": [
    "test_acc1 = Bank_Acc(\"John Doe\",100)"
   ]
  },
  {
   "cell_type": "code",
   "execution_count": 9,
   "id": "0bd46784-5183-4ff1-95a8-64ac93470964",
   "metadata": {},
   "outputs": [
    {
     "data": {
      "text/plain": [
       "100"
      ]
     },
     "execution_count": 9,
     "metadata": {},
     "output_type": "execute_result"
    }
   ],
   "source": [
    "test_acc1.value"
   ]
  },
  {
   "cell_type": "code",
   "execution_count": 10,
   "id": "a1417531-14ec-464b-a6d4-6d6f7ec88bd1",
   "metadata": {},
   "outputs": [
    {
     "name": "stdout",
     "output_type": "stream",
     "text": [
      "Not enough money!\n"
     ]
    }
   ],
   "source": [
    "test_acc1.remove_money(101)"
   ]
  },
  {
   "cell_type": "code",
   "execution_count": null,
   "id": "2bd57126-c995-42c1-bdf5-aae245618169",
   "metadata": {},
   "outputs": [],
   "source": []
  }
 ],
 "metadata": {
  "kernelspec": {
   "display_name": "Python [conda env:base] *",
   "language": "python",
   "name": "conda-base-py"
  },
  "language_info": {
   "codemirror_mode": {
    "name": "ipython",
    "version": 3
   },
   "file_extension": ".py",
   "mimetype": "text/x-python",
   "name": "python",
   "nbconvert_exporter": "python",
   "pygments_lexer": "ipython3",
   "version": "3.12.7"
  }
 },
 "nbformat": 4,
 "nbformat_minor": 5
}
