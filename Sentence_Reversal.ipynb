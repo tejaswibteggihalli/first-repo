{
 "cells": [
  {
   "cell_type": "code",
   "execution_count": 31,
   "id": "44b7502a-51c3-4958-b03e-cef3c649d8b6",
   "metadata": {},
   "outputs": [],
   "source": [
    "def rev_words(string):\n",
    "    rev_string = ''\n",
    "    word =''\n",
    "    list_of_words = []\n",
    "    i =0\n",
    "    while i != len(string):\n",
    "        if string[i] == ' ':\n",
    "            i += 1\n",
    "            word = ''\n",
    "        else:\n",
    "            # word formatiom\n",
    "            while string[i] != ' ':\n",
    "                word += string[i]\n",
    "                i += 1\n",
    "                if i == len(string):\n",
    "                    break\n",
    "        if word != '':\n",
    "            list_of_words.append(word)\n",
    "            list_of_words.append(' ')\n",
    "    list_of_words.pop(-1)\n",
    "    list_of_words = list_of_words[::-1]\n",
    "    for item in list_of_words:\n",
    "        rev_string += item\n",
    "    return list_of_words\n",
    "        \n",
    "\n",
    "        \n",
    "                \n",
    "                \n",
    "            \n",
    "        "
   ]
  },
  {
   "cell_type": "code",
   "execution_count": 32,
   "id": "786d2b5a-2f82-4309-a52c-5907a90dc4a4",
   "metadata": {},
   "outputs": [
    {
     "data": {
      "text/plain": [
       "['dancer', ' ', 'disco', ' ', 'a', ' ', 'am', ' ', 'I']"
      ]
     },
     "execution_count": 32,
     "metadata": {},
     "output_type": "execute_result"
    }
   ],
   "source": [
    "rev_words(\"I am a disco dancer\")"
   ]
  },
  {
   "cell_type": "code",
   "execution_count": 9,
   "id": "77966d15-f2b8-4ff3-979b-71b9b730461e",
   "metadata": {},
   "outputs": [
    {
     "data": {
      "text/plain": [
       "'w'"
      ]
     },
     "execution_count": 9,
     "metadata": {},
     "output_type": "execute_result"
    }
   ],
   "source": [
    "m[-1]"
   ]
  },
  {
   "cell_type": "code",
   "execution_count": 14,
   "id": "b63c3541-00a0-40af-ba3c-602ae82fe73f",
   "metadata": {},
   "outputs": [],
   "source": [
    "m = 0"
   ]
  },
  {
   "cell_type": "code",
   "execution_count": 15,
   "id": "2b0f7a41-0fd7-4258-9db1-1f5d270ecbfb",
   "metadata": {},
   "outputs": [
    {
     "data": {
      "text/plain": [
       "0"
      ]
     },
     "execution_count": 15,
     "metadata": {},
     "output_type": "execute_result"
    }
   ],
   "source": [
    "m"
   ]
  },
  {
   "cell_type": "code",
   "execution_count": 16,
   "id": "e42f0afd-72cc-496c-8384-8d8a38949f14",
   "metadata": {},
   "outputs": [
    {
     "name": "stdout",
     "output_type": "stream",
     "text": [
      "4\n",
      "4\n",
      "4\n",
      "4\n",
      "4\n"
     ]
    }
   ],
   "source": [
    "for i in range(0,5):\n",
    "    i = 4\n",
    "    print(i)"
   ]
  },
  {
   "cell_type": "code",
   "execution_count": null,
   "id": "c1ceaff7-67e6-42eb-b5e7-07abf89e6ba6",
   "metadata": {},
   "outputs": [],
   "source": []
  }
 ],
 "metadata": {
  "kernelspec": {
   "display_name": "Python [conda env:base] *",
   "language": "python",
   "name": "conda-base-py"
  },
  "language_info": {
   "codemirror_mode": {
    "name": "ipython",
    "version": 3
   },
   "file_extension": ".py",
   "mimetype": "text/x-python",
   "name": "python",
   "nbconvert_exporter": "python",
   "pygments_lexer": "ipython3",
   "version": "3.12.7"
  }
 },
 "nbformat": 4,
 "nbformat_minor": 5
}
