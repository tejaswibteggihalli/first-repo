{
 "cells": [
  {
   "cell_type": "code",
   "execution_count": null,
   "id": "8171b109-4e6b-4dfd-8985-388cccb26d76",
   "metadata": {},
   "outputs": [],
   "source": [
    "#The classic \"hallway locker puzzle,\" or lockers problem, describes a scenario with a line of lockers, all initially closed.\n",
    "#A series of students then goes through the hallway: \n",
    "#the first student opens every locker, \n",
    "#the second student closes every second locker, \n",
    "#the third student changes the state of every third locker,\n",
    "#and so on, up to the last student who changes the state of the nth locker. \n",
    "#The question asks which lockers will remain open at the end"
   ]
  },
  {
   "cell_type": "code",
   "execution_count": 53,
   "id": "bc39de72-81e9-4650-bdd6-b489a956e865",
   "metadata": {},
   "outputs": [],
   "source": [
    "def myfunc(no_lockers,iterations):\n",
    "    \n",
    "    \n",
    "    lockers=[]\n",
    "    for i in range(0,no_lockers):\n",
    "        lockers.append(0)\n",
    "\n",
    "    for l in range(1,len(lockers)+1):\n",
    "        for i in range(1,iterations+1):\n",
    "            if l % i == 0:\n",
    "\n",
    "                if lockers[l-1] == 0:\n",
    "                    lockers[l-1] = 1\n",
    "                else:\n",
    "                    lockers[l-1] = 0\n",
    "\n",
    "    print(lockers)\n",
    "    v = 0\n",
    "    for n in range(0,len(lockers)):\n",
    "        v += lockers[n]\n",
    "    print(f\"Numbers of lockers open after {iterations} iterations\")\n",
    "\n",
    "    "
   ]
  },
  {
   "cell_type": "code",
   "execution_count": 55,
   "id": "ed336074-4a4a-43d1-a1b6-2069c841ad08",
   "metadata": {},
   "outputs": [
    {
     "name": "stdout",
     "output_type": "stream",
     "text": [
      "[1, 0, 0, 1, 0, 0, 0, 0, 1, 0, 0, 0, 0, 0, 0, 1, 0, 0, 0, 0, 0, 0, 0, 0, 1, 0, 0, 0, 0, 0, 0, 0, 0, 0, 0, 1, 0, 0, 0, 0, 0, 0, 0, 0, 0, 0, 0, 0, 1, 0, 0, 0, 0, 0, 0, 0, 0, 0, 0, 0, 0, 0, 0, 1, 0, 0, 0, 0, 0, 0, 0, 0, 0, 0, 0, 0, 0, 0, 0, 0, 1, 0, 0, 0, 0, 0, 0, 0, 0, 0, 0, 0, 0, 0, 0, 0, 0, 0, 0, 1]\n",
      "Numbers of lockers open: 10\n"
     ]
    }
   ],
   "source": [
    "myfunc(100,100)"
   ]
  },
  {
   "cell_type": "code",
   "execution_count": null,
   "id": "727303ba-baf6-4f33-836f-7bc5d134c450",
   "metadata": {},
   "outputs": [],
   "source": []
  }
 ],
 "metadata": {
  "kernelspec": {
   "display_name": "Python [conda env:base] *",
   "language": "python",
   "name": "conda-base-py"
  },
  "language_info": {
   "codemirror_mode": {
    "name": "ipython",
    "version": 3
   },
   "file_extension": ".py",
   "mimetype": "text/x-python",
   "name": "python",
   "nbconvert_exporter": "python",
   "pygments_lexer": "ipython3",
   "version": "3.12.7"
  }
 },
 "nbformat": 4,
 "nbformat_minor": 5
}
