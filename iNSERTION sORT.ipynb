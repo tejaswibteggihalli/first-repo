{
 "cells": [
  {
   "cell_type": "code",
   "execution_count": 1,
   "id": "45189a87-f50f-461a-902a-281cae4ab536",
   "metadata": {},
   "outputs": [],
   "source": [
    "def insertionsort(arr):\n",
    "    \n",
    "    for i in range(1,len(arr)):    # it runs the script (n-1) times\n",
    "\n",
    "        currentvalue = arr[i]\n",
    "        position = i\n",
    "\n",
    "        while position > 0 and arr[position-1] > currentvalue: #previous value > current value\n",
    "\n",
    "            arr[position] = arr[position - 1]\n",
    "            position = position-1\n",
    "\n",
    "        arr[position] = currentvalue\n",
    "        \n",
    "\n",
    "        \n",
    "        "
   ]
  },
  {
   "cell_type": "code",
   "execution_count": 2,
   "id": "cc8001c3-01a0-48a2-bf37-a9321a6b3560",
   "metadata": {},
   "outputs": [],
   "source": [
    "arr = [1,2,12,1,2,1,12,12,1,124412,90]"
   ]
  },
  {
   "cell_type": "code",
   "execution_count": 3,
   "id": "a363274e-b23d-4aa3-a071-b59e3cb13d60",
   "metadata": {},
   "outputs": [],
   "source": [
    "insertionsort(arr)"
   ]
  },
  {
   "cell_type": "code",
   "execution_count": 4,
   "id": "2b3a89cf-c738-433f-a917-d8f7e359d686",
   "metadata": {},
   "outputs": [
    {
     "data": {
      "text/plain": [
       "[1, 1, 1, 1, 2, 2, 12, 12, 12, 90, 124412]"
      ]
     },
     "execution_count": 4,
     "metadata": {},
     "output_type": "execute_result"
    }
   ],
   "source": [
    "arr"
   ]
  },
  {
   "cell_type": "code",
   "execution_count": 3,
   "id": "46b90281-1cf0-40b0-ac4a-251cebcea1d3",
   "metadata": {},
   "outputs": [
    {
     "name": "stdout",
     "output_type": "stream",
     "text": [
      "True\n"
     ]
    }
   ],
   "source": [
    "n = 0\n",
    "print(n in range(0,5))"
   ]
  },
  {
   "cell_type": "code",
   "execution_count": 6,
   "id": "e3e50d72-5c14-48ae-b260-c071bfc7eb69",
   "metadata": {},
   "outputs": [
    {
     "name": "stdout",
     "output_type": "stream",
     "text": [
      "1\n",
      "2\n",
      "3\n",
      "4\n"
     ]
    }
   ],
   "source": [
    "for n in range(1,5):\n",
    "    print(n)"
   ]
  },
  {
   "cell_type": "code",
   "execution_count": null,
   "id": "c584061d-11c6-48a9-82f7-022eaac853ca",
   "metadata": {},
   "outputs": [],
   "source": []
  }
 ],
 "metadata": {
  "kernelspec": {
   "display_name": "Python [conda env:base] *",
   "language": "python",
   "name": "conda-base-py"
  },
  "language_info": {
   "codemirror_mode": {
    "name": "ipython",
    "version": 3
   },
   "file_extension": ".py",
   "mimetype": "text/x-python",
   "name": "python",
   "nbconvert_exporter": "python",
   "pygments_lexer": "ipython3",
   "version": "3.12.7"
  }
 },
 "nbformat": 4,
 "nbformat_minor": 5
}
