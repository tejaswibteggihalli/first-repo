{
 "cells": [
  {
   "cell_type": "code",
   "execution_count": 20,
   "id": "13d64178-44d8-4844-8690-17d3a2d40f12",
   "metadata": {},
   "outputs": [],
   "source": [
    "def encode(code,key = int):\n",
    "    alphabets = ['A','B','C','D','E','F','G','H','I','J','K','L','M','N','O','P','Q','R','S','T','U','V','W','X','Y','Z']\n",
    "    encoded = ''\n",
    "\n",
    "    for letter in code:\n",
    "        l = 0\n",
    "        while alphabets[l] != letter:\n",
    "            l += 1\n",
    "        encoded += alphabets[(l+key)%26]\n",
    "    return encoded\n",
    "\n",
    "        \n",
    "            \n",
    "        \n",
    "            \n",
    "        \n",
    "    "
   ]
  },
  {
   "cell_type": "code",
   "execution_count": 25,
   "id": "dafd49df-f539-450b-8c13-a790a4158e91",
   "metadata": {},
   "outputs": [
    {
     "data": {
      "text/plain": [
       "'KCOLWUVCHKUJ'"
      ]
     },
     "execution_count": 25,
     "metadata": {},
     "output_type": "execute_result"
    }
   ],
   "source": [
    "encode(\"IAMJUSTAFISH\",54)"
   ]
  },
  {
   "cell_type": "code",
   "execution_count": null,
   "id": "74c7c257-3e4c-465f-9b1e-ecd3728968e4",
   "metadata": {},
   "outputs": [],
   "source": [
    "def decode(code,key = int):\n",
    "    alphabets = ['A','B','C','D','E','F','G','H','I','J','K','L','M','N','O','P','Q','R','S','T','U','V','W','X','Y','Z']\n",
    "    decoded = ''\n",
    "\n",
    "    for letter in code:\n",
    "        l = 0\n",
    "        while alphabets[l] != letter:\n",
    "            l += 1\n",
    "        decoded += alphabets[(l-key)%26]\n",
    "    return decoded\n",
    "\n",
    "        \n",
    "            "
   ]
  }
 ],
 "metadata": {
  "kernelspec": {
   "display_name": "Python [conda env:base] *",
   "language": "python",
   "name": "conda-base-py"
  },
  "language_info": {
   "codemirror_mode": {
    "name": "ipython",
    "version": 3
   },
   "file_extension": ".py",
   "mimetype": "text/x-python",
   "name": "python",
   "nbconvert_exporter": "python",
   "pygments_lexer": "ipython3",
   "version": "3.12.7"
  }
 },
 "nbformat": 4,
 "nbformat_minor": 5
}
