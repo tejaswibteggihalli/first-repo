{
 "cells": [
  {
   "cell_type": "code",
   "execution_count": 64,
   "id": "bfeba61e-3eed-44d4-bf8f-ee8f0f3a5236",
   "metadata": {},
   "outputs": [],
   "source": [
    "import math"
   ]
  },
  {
   "cell_type": "code",
   "execution_count": 66,
   "id": "efe62e50-2e34-4441-bce1-aca6ab3301f0",
   "metadata": {},
   "outputs": [],
   "source": [
    "def digitofpi(digit):\n",
    "    if digit > 15 or digit < 1:\n",
    "        print(\"choose between 1 and 15(both inclusive)\")\n",
    "    else:\n",
    "        pi = str(math.pi)\n",
    "        pi = pi.replace(\".\",\"\")\n",
    "        print(pi[digit+0])\n",
    "    \n",
    "    "
   ]
  },
  {
   "cell_type": "code",
   "execution_count": 67,
   "id": "d95bd685-59d8-40b1-aa7e-68e1454f3031",
   "metadata": {},
   "outputs": [
    {
     "name": "stdout",
     "output_type": "stream",
     "text": [
      "choose between 1 and 15(both inclusive)\n"
     ]
    }
   ],
   "source": [
    "digitofpi(0)"
   ]
  },
  {
   "cell_type": "code",
   "execution_count": 68,
   "id": "11ef38a2-7fd4-447b-8f73-c6126acbcb00",
   "metadata": {},
   "outputs": [
    {
     "data": {
      "text/plain": [
       "2.718281828459045"
      ]
     },
     "execution_count": 68,
     "metadata": {},
     "output_type": "execute_result"
    }
   ],
   "source": [
    "math.e"
   ]
  },
  {
   "cell_type": "code",
   "execution_count": 69,
   "id": "2fb26109-3b3c-47dd-9a8b-292d42b92840",
   "metadata": {},
   "outputs": [],
   "source": [
    "def factorial(n):\n",
    "    if n == 0 or n == 1:\n",
    "        return 1\n",
    "    else:\n",
    "        return n*factorial(n-1)\n",
    "    "
   ]
  },
  {
   "cell_type": "code",
   "execution_count": 70,
   "id": "235b751b-28b1-4463-a74d-4f1da6011de2",
   "metadata": {},
   "outputs": [
    {
     "data": {
      "text/plain": [
       "120"
      ]
     },
     "execution_count": 70,
     "metadata": {},
     "output_type": "execute_result"
    }
   ],
   "source": [
    "factorial(5)"
   ]
  },
  {
   "cell_type": "code",
   "execution_count": 71,
   "id": "d7eb817b-e905-4537-a616-04a69393b60e",
   "metadata": {},
   "outputs": [],
   "source": [
    "def gen_e(terms):\n",
    "    e = 1\n",
    "    for x in range(terms-1):\n",
    "        e += 1/(factorial(x+1))\n",
    "    print(e)\n",
    "        "
   ]
  },
  {
   "cell_type": "code",
   "execution_count": 78,
   "id": "e9e4575d-7e72-4362-b62e-91131102219e",
   "metadata": {},
   "outputs": [],
   "source": [
    "# gen_e() is a function made by ME which calculates e by calculating it using 1 + 1/(1!) + 1/(2!) + 1/(3!) + ... upto how many digits we want (we have to give this input)"
   ]
  },
  {
   "cell_type": "code",
   "execution_count": 79,
   "id": "1c989336-7cd8-4724-a954-bf7b6d91db4c",
   "metadata": {},
   "outputs": [
    {
     "name": "stdout",
     "output_type": "stream",
     "text": [
      "1\n"
     ]
    }
   ],
   "source": [
    "gen_e(1)"
   ]
  },
  {
   "cell_type": "code",
   "execution_count": 80,
   "id": "31183cf7-a6ac-43fb-b24a-ee5e952307c0",
   "metadata": {},
   "outputs": [
    {
     "name": "stdout",
     "output_type": "stream",
     "text": [
      "2.7166666666666663\n"
     ]
    }
   ],
   "source": [
    "gen_e(6)"
   ]
  },
  {
   "cell_type": "code",
   "execution_count": 81,
   "id": "ff8ce8ff-8ba1-46fd-8f51-def35921b31d",
   "metadata": {},
   "outputs": [
    {
     "name": "stdout",
     "output_type": "stream",
     "text": [
      "2.7182818284590455\n"
     ]
    }
   ],
   "source": [
    "gen_e(89)"
   ]
  },
  {
   "cell_type": "code",
   "execution_count": 82,
   "id": "289de454-87e3-4489-8470-71d51197f8a7",
   "metadata": {},
   "outputs": [
    {
     "name": "stdout",
     "output_type": "stream",
     "text": [
      "2.7182818284590455\n"
     ]
    }
   ],
   "source": [
    "gen_e(999)"
   ]
  },
  {
   "cell_type": "code",
   "execution_count": null,
   "id": "72a5227c-443f-40e4-bf04-1452f50087d0",
   "metadata": {},
   "outputs": [],
   "source": []
  }
 ],
 "metadata": {
  "kernelspec": {
   "display_name": "Python [conda env:base] *",
   "language": "python",
   "name": "conda-base-py"
  },
  "language_info": {
   "codemirror_mode": {
    "name": "ipython",
    "version": 3
   },
   "file_extension": ".py",
   "mimetype": "text/x-python",
   "name": "python",
   "nbconvert_exporter": "python",
   "pygments_lexer": "ipython3",
   "version": "3.12.7"
  }
 },
 "nbformat": 4,
 "nbformat_minor": 5
}
