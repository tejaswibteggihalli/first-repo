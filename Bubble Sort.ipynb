{
 "cells": [
  {
   "cell_type": "code",
   "execution_count": 7,
   "id": "64b4c5e5-fbc7-452e-b107-cf9927bc79e9",
   "metadata": {},
   "outputs": [],
   "source": [
    "def bubble_sort(arr):\n",
    "    n = 0\n",
    "    i = 0\n",
    "    intermediate = \"\"\n",
    "    while not n == len(arr)-1:\n",
    "        if i == len(arr) -1:\n",
    "            i = 0\n",
    "            n = 0\n",
    "        if arr[i] > arr[i+1]:\n",
    "            intermediate = arr[i]\n",
    "            arr[i] = arr[i+1]\n",
    "            arr[i+1] = intermediate\n",
    "            intermediate = \"\"\n",
    "        else:\n",
    "            n += 1\n",
    "        i += 1\n",
    "    print(arr)\n",
    "\n",
    "\n",
    "\n",
    "\n",
    "\n",
    "#let us arrange in ascending order\n",
    "\n"
   ]
  },
  {
   "cell_type": "code",
   "execution_count": 11,
   "id": "f1678108-96e3-4a58-a406-033f1e821673",
   "metadata": {},
   "outputs": [
    {
     "name": "stdout",
     "output_type": "stream",
     "text": [
      "[-2132, 1, 2, 24, 54213]\n"
     ]
    }
   ],
   "source": [
    "bubble_sort([1,24,54213,2,-2132])"
   ]
  },
  {
   "cell_type": "code",
   "execution_count": null,
   "id": "059311be-1539-4821-b863-d40bee23cb32",
   "metadata": {},
   "outputs": [],
   "source": []
  }
 ],
 "metadata": {
  "kernelspec": {
   "display_name": "Python [conda env:base] *",
   "language": "python",
   "name": "conda-base-py"
  },
  "language_info": {
   "codemirror_mode": {
    "name": "ipython",
    "version": 3
   },
   "file_extension": ".py",
   "mimetype": "text/x-python",
   "name": "python",
   "nbconvert_exporter": "python",
   "pygments_lexer": "ipython3",
   "version": "3.12.7"
  }
 },
 "nbformat": 4,
 "nbformat_minor": 5
}
