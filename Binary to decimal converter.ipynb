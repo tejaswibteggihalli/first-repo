{
 "cells": [
  {
   "cell_type": "code",
   "execution_count": 1,
   "id": "5d4f2886-f7e3-4882-91a1-ad88a78af17d",
   "metadata": {},
   "outputs": [],
   "source": [
    "#Binary to Decimal and Back Converter - Develop a converter to convert a decimal number to binary or a binary number to its decimal equivalent."
   ]
  },
  {
   "cell_type": "code",
   "execution_count": 4,
   "id": "18c3b9ed-473f-45b6-91af-18c147a1a7b9",
   "metadata": {},
   "outputs": [],
   "source": [
    "def convert_to_binary(num,list = None):\n",
    "    if list == None:\n",
    "        list = []\n",
    "    if num == 0:\n",
    "        if not list:\n",
    "            list.append(0)\n",
    "        return list\n",
    "    list.insert(0,num%2)\n",
    "    return convert_to_binary(num//2,list)\n",
    "  "
   ]
  },
  {
   "cell_type": "code",
   "execution_count": 5,
   "id": "6f01de9b-78c0-4593-9def-fa221cf6dd56",
   "metadata": {},
   "outputs": [],
   "source": [
    "def convert_to_decimal(list):\n",
    "    result = 0\n",
    "    for i in range(len(list)):\n",
    "        result += list[len(list)-(i+1)]*(2**i)\n",
    "    print(result)\n",
    "        \n",
    "        "
   ]
  },
  {
   "cell_type": "code",
   "execution_count": 6,
   "id": "84b6217e-f828-4939-b674-5db253d42de5",
   "metadata": {},
   "outputs": [
    {
     "name": "stdin",
     "output_type": "stream",
     "text": [
      "Please enter your decimal number\n",
      " no\n"
     ]
    },
    {
     "ename": "ValueError",
     "evalue": "invalid literal for int() with base 10: 'no'",
     "output_type": "error",
     "traceback": [
      "\u001b[1;31m---------------------------------------------------------------------------\u001b[0m",
      "\u001b[1;31mValueError\u001b[0m                                Traceback (most recent call last)",
      "Cell \u001b[1;32mIn[6], line 1\u001b[0m\n\u001b[1;32m----> 1\u001b[0m decimal_binary_q()\n",
      "Cell \u001b[1;32mIn[2], line 4\u001b[0m, in \u001b[0;36mdecimal_binary_q\u001b[1;34m()\u001b[0m\n\u001b[0;32m      2\u001b[0m mew \u001b[38;5;241m=\u001b[39m \u001b[38;5;241m1\u001b[39m\n\u001b[0;32m      3\u001b[0m \u001b[38;5;28;01mwhile\u001b[39;00m mew \u001b[38;5;241m==\u001b[39m\u001b[38;5;241m1\u001b[39m :\n\u001b[1;32m----> 4\u001b[0m     decimal_q \u001b[38;5;241m=\u001b[39m \u001b[38;5;28mint\u001b[39m(\u001b[38;5;28minput\u001b[39m(\u001b[38;5;124m\"\u001b[39m\u001b[38;5;124mPlease enter your decimal number\u001b[39m\u001b[38;5;130;01m\\n\u001b[39;00m\u001b[38;5;124m\"\u001b[39m))\n\u001b[0;32m      5\u001b[0m     \u001b[38;5;28;01mif\u001b[39;00m \u001b[38;5;28mtype\u001b[39m(decimal_q) \u001b[38;5;241m==\u001b[39m \u001b[38;5;28mfloat\u001b[39m \u001b[38;5;129;01mor\u001b[39;00m \u001b[38;5;28mtype\u001b[39m(decimal_q) \u001b[38;5;241m==\u001b[39m \u001b[38;5;28mint\u001b[39m:\n\u001b[0;32m      6\u001b[0m         \u001b[38;5;28;01mreturn\u001b[39;00m decimal_q\n",
      "\u001b[1;31mValueError\u001b[0m: invalid literal for int() with base 10: 'no'"
     ]
    }
   ],
   "source": [
    "decimal_binary_q()"
   ]
  },
  {
   "cell_type": "code",
   "execution_count": null,
   "id": "38fe927e-e04d-4d5b-9f39-6def320089e9",
   "metadata": {},
   "outputs": [],
   "source": []
  }
 ],
 "metadata": {
  "kernelspec": {
   "display_name": "Python [conda env:base] *",
   "language": "python",
   "name": "conda-base-py"
  },
  "language_info": {
   "codemirror_mode": {
    "name": "ipython",
    "version": 3
   },
   "file_extension": ".py",
   "mimetype": "text/x-python",
   "name": "python",
   "nbconvert_exporter": "python",
   "pygments_lexer": "ipython3",
   "version": "3.12.7"
  }
 },
 "nbformat": 4,
 "nbformat_minor": 5
}
